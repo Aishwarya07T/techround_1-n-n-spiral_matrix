{
 "cells": [
  {
   "cell_type": "markdown",
   "id": "3c5d6ce8",
   "metadata": {},
   "source": [
    "create matrix n*n size (4), return as a 2D list \n",
    "\n",
    "techround_1 n*n spiral matrix"
   ]
  },
  {
   "cell_type": "code",
   "execution_count": 1,
   "id": "a0600e50",
   "metadata": {},
   "outputs": [],
   "source": [
    "import numpy as np"
   ]
  },
  {
   "cell_type": "code",
   "execution_count": 10,
   "id": "92af1853",
   "metadata": {},
   "outputs": [
    {
     "name": "stdout",
     "output_type": "stream",
     "text": [
      "[1, 2, 3, 4, 5, 6]\n",
      "[20, 21, 22, 23, 24, 7]\n",
      "[19, 32, 33, 34, 25, 8]\n",
      "[18, 31, 36, 35, 26, 9]\n",
      "[17, 30, 29, 28, 27, 10]\n",
      "[16, 15, 14, 13, 12, 11]\n"
     ]
    }
   ],
   "source": [
    "def spiral_matrix(n):\n",
    "    matrix=[[0] * n for i in range(n)]\n",
    "    left,right,top,bottom=0,n-1,0,n-1 # set boundaries\n",
    "    n=1 # start filling with 1\n",
    "    \n",
    "    while left<=right and top<=bottom:\n",
    "        for i in range(left,right+1): # moving from left to right \n",
    "            matrix[top][i]=n\n",
    "            n+=1\n",
    "            \n",
    "        top+=1\n",
    "        \n",
    "        \n",
    "        for i in range(top,bottom+1):\n",
    "            matrix[i][right]=n\n",
    "            n+=1\n",
    "            \n",
    "        right-=1\n",
    "        \n",
    "        \n",
    "        if top<=bottom:\n",
    "            for i in range(right,left-1,-1):\n",
    "                matrix[bottom][i]=n\n",
    "                n+=1\n",
    "                \n",
    "            bottom-=1\n",
    "            \n",
    "        if left<=right:\n",
    "            for i in range(bottom,top-1,-1):\n",
    "                matrix[i][left]=n\n",
    "                n+=1\n",
    "            left+=1\n",
    "            \n",
    "    return matrix\n",
    "\n",
    "N= 6\n",
    "mat_spiral=spiral_matrix(N)\n",
    "\n",
    "for i in mat_spiral:\n",
    "    print(i)\n",
    "\n",
    "                       \n",
    "    \n",
    "    "
   ]
  },
  {
   "cell_type": "code",
   "execution_count": null,
   "id": "f2818e27",
   "metadata": {},
   "outputs": [],
   "source": []
  },
  {
   "cell_type": "code",
   "execution_count": null,
   "id": "db7626b3",
   "metadata": {},
   "outputs": [],
   "source": []
  },
  {
   "cell_type": "code",
   "execution_count": null,
   "id": "acc703af",
   "metadata": {},
   "outputs": [],
   "source": []
  },
  {
   "cell_type": "code",
   "execution_count": null,
   "id": "41afeff9",
   "metadata": {},
   "outputs": [],
   "source": []
  },
  {
   "cell_type": "code",
   "execution_count": null,
   "id": "14fb80be",
   "metadata": {},
   "outputs": [],
   "source": []
  },
  {
   "cell_type": "code",
   "execution_count": null,
   "id": "0e71a782",
   "metadata": {},
   "outputs": [],
   "source": []
  },
  {
   "cell_type": "code",
   "execution_count": null,
   "id": "353871da",
   "metadata": {},
   "outputs": [],
   "source": []
  },
  {
   "cell_type": "code",
   "execution_count": null,
   "id": "a93279fb",
   "metadata": {},
   "outputs": [],
   "source": []
  },
  {
   "cell_type": "code",
   "execution_count": null,
   "id": "baa6974a",
   "metadata": {},
   "outputs": [],
   "source": []
  },
  {
   "cell_type": "code",
   "execution_count": null,
   "id": "f8b96c53",
   "metadata": {},
   "outputs": [],
   "source": []
  },
  {
   "cell_type": "code",
   "execution_count": null,
   "id": "0b1094a2",
   "metadata": {},
   "outputs": [],
   "source": []
  },
  {
   "cell_type": "code",
   "execution_count": null,
   "id": "fac1c089",
   "metadata": {},
   "outputs": [],
   "source": []
  },
  {
   "cell_type": "code",
   "execution_count": 2,
   "id": "a3df88dd",
   "metadata": {},
   "outputs": [
    {
     "data": {
      "text/plain": [
       "array([[4, 9, 9],\n",
       "       [5, 2, 5],\n",
       "       [8, 3, 9]])"
      ]
     },
     "execution_count": 2,
     "metadata": {},
     "output_type": "execute_result"
    }
   ],
   "source": [
    "x_mat=np.random.randint(0,10,size=(3,3))\n",
    "x_mat"
   ]
  },
  {
   "cell_type": "code",
   "execution_count": null,
   "id": "e6688dcb",
   "metadata": {},
   "outputs": [],
   "source": []
  },
  {
   "cell_type": "code",
   "execution_count": null,
   "id": "b7499c8f",
   "metadata": {},
   "outputs": [],
   "source": []
  },
  {
   "cell_type": "code",
   "execution_count": null,
   "id": "d6106d4a",
   "metadata": {},
   "outputs": [],
   "source": []
  }
 ],
 "metadata": {
  "kernelspec": {
   "display_name": "Python 3 (ipykernel)",
   "language": "python",
   "name": "python3"
  },
  "language_info": {
   "codemirror_mode": {
    "name": "ipython",
    "version": 3
   },
   "file_extension": ".py",
   "mimetype": "text/x-python",
   "name": "python",
   "nbconvert_exporter": "python",
   "pygments_lexer": "ipython3",
   "version": "3.9.12"
  }
 },
 "nbformat": 4,
 "nbformat_minor": 5
}
